{
 "cells": [
  {
   "cell_type": "markdown",
   "metadata": {},
   "source": [
    "**NumPy** - это фундаментальный пакет для научных вычислений на Python. \n",
    "Он содержит, помимо прочего: \n",
    "* мощный N-мерный массив объектов\n",
    "* полезные элементы линейной алгебры написанные на языке C / C ++ и Фортран\n",
    "* преобразования Фурье и случайные чисела. \n",
    "\n",
    "Помимо очевидного научного использования, NumPy также может использоваться как эффективный многомерный контейнер данных."
   ]
  },
  {
   "cell_type": "code",
   "execution_count": 1,
   "metadata": {},
   "outputs": [],
   "source": [
    "import numpy as np"
   ]
  },
  {
   "cell_type": "markdown",
   "metadata": {},
   "source": [
    "## Массивы\n",
    "\n",
    "Массив numpy представляет собой сетку значений одного типа и индексируется кортежем неотрицательных целых чисел. Число измерений-это ранг массива; форма массива - это кортеж целых чисел, дающих размер массива вдоль каждого измерения.\n",
    "\n",
    "Мы можем инициализировать массивы numpy из стандартных списков Python и получить доступ к элементам с помощью квадратных скобок:"
   ]
  },
  {
   "cell_type": "code",
   "execution_count": 4,
   "metadata": {},
   "outputs": [
    {
     "name": "stdout",
     "output_type": "stream",
     "text": [
      "<class 'list'>\n",
      "<class 'numpy.ndarray'>\n",
      "(3,)\n",
      "1 2 3\n",
      "[5 2 3]\n"
     ]
    }
   ],
   "source": [
    "a = np.array([1, 2, 3])\n",
    "print(type([1, 2, 3]))\n",
    "print(type(a))            \n",
    "print(a.shape)            \n",
    "print(a[0], a[1], a[2])   \n",
    "a[0] = 5                  \n",
    "print(a)"
   ]
  },
  {
   "cell_type": "code",
   "execution_count": 17,
   "metadata": {},
   "outputs": [
    {
     "name": "stdout",
     "output_type": "stream",
     "text": [
      "(2, 3)\n",
      "[[1 2 3]\n",
      " [4 5 6]]\n",
      "1 2 4\n"
     ]
    }
   ],
   "source": [
    "b = np.array([[1,2,3],[4,5,6]])\n",
    "print(b.shape)\n",
    "print(b)\n",
    "print(b[0, 0], b[0, 1], b[1, 0])"
   ]
  },
  {
   "cell_type": "markdown",
   "metadata": {},
   "source": [
    "NumPy включает в себя множество функций для создания массивов:"
   ]
  },
  {
   "cell_type": "code",
   "execution_count": 7,
   "metadata": {},
   "outputs": [
    {
     "name": "stdout",
     "output_type": "stream",
     "text": [
      "[[0. 0.]\n",
      " [0. 0.]]\n"
     ]
    }
   ],
   "source": [
    "a = np.zeros((2,2))\n",
    "print(a)  "
   ]
  },
  {
   "cell_type": "code",
   "execution_count": 8,
   "metadata": {},
   "outputs": [
    {
     "name": "stdout",
     "output_type": "stream",
     "text": [
      "[[1. 1.]]\n"
     ]
    }
   ],
   "source": [
    "b = np.ones((1,2))\n",
    "print(b)"
   ]
  },
  {
   "cell_type": "code",
   "execution_count": 9,
   "metadata": {},
   "outputs": [
    {
     "name": "stdout",
     "output_type": "stream",
     "text": [
      "[[7 7]\n",
      " [7 7]]\n"
     ]
    }
   ],
   "source": [
    "c = np.full((2,2), 7)\n",
    "print(c)"
   ]
  },
  {
   "cell_type": "code",
   "execution_count": 14,
   "metadata": {},
   "outputs": [
    {
     "name": "stdout",
     "output_type": "stream",
     "text": [
      "[[1. 0.]\n",
      " [0. 1.]]\n"
     ]
    }
   ],
   "source": [
    "d = np.eye(2)\n",
    "print(d) "
   ]
  },
  {
   "cell_type": "code",
   "execution_count": 15,
   "metadata": {},
   "outputs": [
    {
     "name": "stdout",
     "output_type": "stream",
     "text": [
      "[[0.09313058 0.41486528]\n",
      " [0.72477053 0.91501855]]\n"
     ]
    }
   ],
   "source": [
    "e = np.random.random((2,2))\n",
    "print(e)"
   ]
  },
  {
   "cell_type": "markdown",
   "metadata": {},
   "source": [
    "Про все остальные способы создать массив можно прочитать в документации https://docs.scipy.org/doc/numpy/user/basics.creation.html#arrays-creation"
   ]
  },
  {
   "cell_type": "markdown",
   "metadata": {},
   "source": [
    "## Индексации массива \n",
    "Numpy предлагает несколько способов индексирования."
   ]
  },
  {
   "cell_type": "markdown",
   "metadata": {},
   "source": [
    "### Срезы:\n",
    "так же как в списках в Python.\n",
    "Поскольку массивы могут быть многомерными, необходимо указать срез для каждого измерения массива."
   ]
  },
  {
   "cell_type": "code",
   "execution_count": 131,
   "metadata": {},
   "outputs": [
    {
     "name": "stdout",
     "output_type": "stream",
     "text": [
      "[[ 1  2  3  4]\n",
      " [ 5  6  7  8]\n",
      " [ 9 10 11 12]] \n",
      "\n",
      "[[1 2 3 4]]\n"
     ]
    }
   ],
   "source": [
    "a = np.array([[1,2,3,4], [5,6,7,8], [9,10,11,12]])\n",
    "print(a, '\\n')\n",
    "b = a[0:1:1]\n",
    "print(b)"
   ]
  },
  {
   "cell_type": "markdown",
   "metadata": {},
   "source": [
    "Срез списка указывает на те же данные, изменяя срез мы изменим и исходный список"
   ]
  },
  {
   "cell_type": "code",
   "execution_count": 25,
   "metadata": {},
   "outputs": [
    {
     "name": "stdout",
     "output_type": "stream",
     "text": [
      "[[  1 123   3   4]\n",
      " [  5   6   7   8]\n",
      " [  9  10  11  12]] \n",
      "\n",
      "[[123   3]\n",
      " [  6   7]]\n"
     ]
    }
   ],
   "source": [
    "b[0, 0] = 123\n",
    "print(a, '\\n')\n",
    "print(b)"
   ]
  },
  {
   "cell_type": "markdown",
   "metadata": {},
   "source": [
    "### Целочисленное индексирование\n",
    "При индексировании с помощью срезов резултат всегда будет подмассивом исходного. Целочисленное индексирование позволяет создавать произвольные массивы, используя данные из другого массива."
   ]
  },
  {
   "cell_type": "code",
   "execution_count": 32,
   "metadata": {},
   "outputs": [
    {
     "name": "stdout",
     "output_type": "stream",
     "text": [
      "[[1 2]\n",
      " [3 4]\n",
      " [5 6]] (3, 2) \n",
      "\n",
      "[1 4 5] (3,)\n"
     ]
    }
   ],
   "source": [
    "a = np.array([[1,2], [3, 4], [5, 6]])\n",
    "b = a[[0, 1, 2], [0, 1, 0]]\n",
    "\n",
    "print(a, a.shape, '\\n')\n",
    "print(b, b.shape)"
   ]
  },
  {
   "cell_type": "markdown",
   "metadata": {},
   "source": [
    "Пример выше эквивалентен такому:"
   ]
  },
  {
   "cell_type": "code",
   "execution_count": 33,
   "metadata": {},
   "outputs": [
    {
     "name": "stdout",
     "output_type": "stream",
     "text": [
      "[1 4 5] (3,)\n"
     ]
    }
   ],
   "source": [
    "b = np.array([a[0, 0], a[1, 1], a[2, 0]])\n",
    "print(b, b.shape)"
   ]
  },
  {
   "cell_type": "markdown",
   "metadata": {},
   "source": [
    "Так же можно использовать один и тот же элемент несколько раз"
   ]
  },
  {
   "cell_type": "code",
   "execution_count": 34,
   "metadata": {},
   "outputs": [
    {
     "name": "stdout",
     "output_type": "stream",
     "text": [
      "[2 2]\n",
      "[2 2]\n"
     ]
    }
   ],
   "source": [
    "print(a[[0, 0], [1, 1]])\n",
    "# Пример выше эквивалентен такому:\n",
    "print(np.array([a[0, 1], a[0, 1]]))"
   ]
  },
  {
   "cell_type": "markdown",
   "metadata": {},
   "source": [
    "Один полезный трюк с целочисленным индексированием массива -- выбор или изменеие одного элемента из каждой строки матрицы:"
   ]
  },
  {
   "cell_type": "code",
   "execution_count": 36,
   "metadata": {},
   "outputs": [
    {
     "name": "stdout",
     "output_type": "stream",
     "text": [
      "[[ 1  2  3]\n",
      " [ 4  5  6]\n",
      " [ 7  8  9]\n",
      " [10 11 12]] \n",
      "\n",
      "[ 1  6  7 11] \n",
      "\n",
      "[[11  2  3]\n",
      " [ 4  5 16]\n",
      " [17  8  9]\n",
      " [10 21 12]]\n"
     ]
    }
   ],
   "source": [
    "# Create a new array from which we will select elements\n",
    "a = np.array([[1,2,3], [4,5,6], [7,8,9], [10, 11, 12]])\n",
    "\n",
    "print(a, '\\n')\n",
    "\n",
    "# Создадим массив индексов\n",
    "b = np.array([0, 2, 0, 1])\n",
    "\n",
    "# Выбирем один элемент из скаждой строки по индексам из b\n",
    "print(a[np.arange(4), b], '\\n')  \n",
    "\n",
    "# Изменим эти элементы\n",
    "a[np.arange(4), b] += 10\n",
    "\n",
    "print(a)"
   ]
  },
  {
   "cell_type": "markdown",
   "metadata": {},
   "source": [
    "Можно также смешивать целочисленное индексирование со срезами.Это даст массив более низкого ранга, чем исходный массив. "
   ]
  },
  {
   "cell_type": "code",
   "execution_count": 37,
   "metadata": {},
   "outputs": [
    {
     "name": "stdout",
     "output_type": "stream",
     "text": [
      "[5 6 7 8] (4,)\n",
      "[[5 6 7 8]] (1, 4)\n"
     ]
    }
   ],
   "source": [
    "a = np.array([[1,2,3,4], [5,6,7,8], [9,10,11,12]])\n",
    "\n",
    "row_r1 = a[1, :]    # Rank 1 ссылается на вторую строчку a\n",
    "row_r2 = a[1:2, :]  # Rank 2 ссылается на вторую строчку a\n",
    "print(row_r1, row_r1.shape)\n",
    "print(row_r2, row_r2.shape)"
   ]
  },
  {
   "cell_type": "markdown",
   "metadata": {},
   "source": [
    "Со столбцами всё точно так же"
   ]
  },
  {
   "cell_type": "code",
   "execution_count": 38,
   "metadata": {},
   "outputs": [
    {
     "name": "stdout",
     "output_type": "stream",
     "text": [
      "[ 2  6 10] (3,)\n",
      "[[ 2]\n",
      " [ 6]\n",
      " [10]] (3, 1)\n"
     ]
    }
   ],
   "source": [
    "col_r1 = a[:, 1]\n",
    "col_r2 = a[:, 1:2]\n",
    "print(col_r1, col_r1.shape) \n",
    "print(col_r2, col_r2.shape)"
   ]
  },
  {
   "cell_type": "markdown",
   "metadata": {},
   "source": [
    "### Логическое индексирование\n",
    "позволяет выбирать произвольные элементы массива. Часто этот тип индексирования используется для выбора элементов массива, удовлетворяющих некоторому условию. Вот пример:"
   ]
  },
  {
   "cell_type": "code",
   "execution_count": 39,
   "metadata": {},
   "outputs": [
    {
     "name": "stdout",
     "output_type": "stream",
     "text": [
      "[[False False]\n",
      " [ True  True]\n",
      " [ True  True]]\n"
     ]
    }
   ],
   "source": [
    "a = np.array([[1,2], [3, 4], [5, 6]])\n",
    "\n",
    "bool_idx = (a > 2)   # Возвращает массив Booleans такого же размера как a\n",
    "\n",
    "print(bool_idx)\n"
   ]
  },
  {
   "cell_type": "markdown",
   "metadata": {},
   "source": [
    "Используем логическое индексирование массива чтобы построить массив\n",
    "состоящий из элементов `a`, соответствующих истинным значениям из `bool_idx`"
   ]
  },
  {
   "cell_type": "code",
   "execution_count": 40,
   "metadata": {},
   "outputs": [
    {
     "name": "stdout",
     "output_type": "stream",
     "text": [
      "[3 4 5 6]\n"
     ]
    }
   ],
   "source": [
    "print(a[bool_idx])"
   ]
  },
  {
   "cell_type": "markdown",
   "metadata": {},
   "source": [
    "Всё можно записать в одну строчку. Очень лаконично"
   ]
  },
  {
   "cell_type": "code",
   "execution_count": 41,
   "metadata": {},
   "outputs": [
    {
     "name": "stdout",
     "output_type": "stream",
     "text": [
      "[3 4 5 6]\n"
     ]
    }
   ],
   "source": [
    "print(a[a > 2]) "
   ]
  },
  {
   "cell_type": "markdown",
   "metadata": {},
   "source": [
    "Для краткости мы оставили много деталей об индексации массива numpy; если вы хотите узнать больше, вы должны прочитать документацию. https://docs.scipy.org/doc/numpy/reference/arrays.indexing.html"
   ]
  },
  {
   "cell_type": "markdown",
   "metadata": {},
   "source": [
    "## Типы данных\n",
    "Каждый массив numpy представляет собой сетку элементов одного типа. Numpy содержит большой набор числовых типов данных, которые можно использовать для создания массивов. Numpy пытается угадать тип данных при создании массива, но функции, которые строят массивы, обычно также включают необязательный аргумент для явного указания типа данных. Вот пример:"
   ]
  },
  {
   "cell_type": "code",
   "execution_count": 42,
   "metadata": {},
   "outputs": [
    {
     "name": "stdout",
     "output_type": "stream",
     "text": [
      "int32\n",
      "float64\n",
      "float64\n"
     ]
    }
   ],
   "source": [
    "x = np.array([1, 2])\n",
    "print(x.dtype)\n",
    "\n",
    "x = np.array([1.0, 2.0])   \n",
    "print(x.dtype)\n",
    "\n",
    "x = np.array([1, 2], dtype=np.float64)\n",
    "print(x.dtype)                    "
   ]
  },
  {
   "cell_type": "markdown",
   "metadata": {},
   "source": [
    "В первых двух примерах тип данных выбрался автоматически. В третьем мы явно его указали.\n",
    "Не будем подробно останавливаться на типах данных, если интересно вы можете прочитать подробнее в документации. https://docs.scipy.org/doc/numpy/reference/arrays.dtypes.html"
   ]
  },
  {
   "cell_type": "markdown",
   "metadata": {},
   "source": [
    "## Арифметика массивов\n",
    "Основные математические функции работают поелементно в массивах и доступны как в качестве перегрузок операторов, так и в качестве функций в модуле numpy:"
   ]
  },
  {
   "cell_type": "code",
   "execution_count": 44,
   "metadata": {},
   "outputs": [],
   "source": [
    "x = np.array([[1,2],[3,4]], dtype=np.float64)\n",
    "y = np.array([[5,6],[7,8]], dtype=np.float64)"
   ]
  },
  {
   "cell_type": "markdown",
   "metadata": {},
   "source": [
    "Поэлементная сумма, разность, умножение, деление и квадратный корень"
   ]
  },
  {
   "cell_type": "code",
   "execution_count": 45,
   "metadata": {},
   "outputs": [
    {
     "name": "stdout",
     "output_type": "stream",
     "text": [
      "[[ 6.  8.]\n",
      " [10. 12.]]\n",
      "[[ 6.  8.]\n",
      " [10. 12.]]\n"
     ]
    }
   ],
   "source": [
    "print(x + y)\n",
    "print(np.add(x, y))"
   ]
  },
  {
   "cell_type": "code",
   "execution_count": 46,
   "metadata": {},
   "outputs": [
    {
     "name": "stdout",
     "output_type": "stream",
     "text": [
      "[[-4. -4.]\n",
      " [-4. -4.]]\n",
      "[[-4. -4.]\n",
      " [-4. -4.]]\n"
     ]
    }
   ],
   "source": [
    "print(x - y)\n",
    "print(np.subtract(x, y))"
   ]
  },
  {
   "cell_type": "code",
   "execution_count": 47,
   "metadata": {},
   "outputs": [
    {
     "name": "stdout",
     "output_type": "stream",
     "text": [
      "[[ 5. 12.]\n",
      " [21. 32.]]\n",
      "[[ 5. 12.]\n",
      " [21. 32.]]\n"
     ]
    }
   ],
   "source": [
    "print(x * y)\n",
    "print(np.multiply(x, y))"
   ]
  },
  {
   "cell_type": "code",
   "execution_count": 48,
   "metadata": {},
   "outputs": [
    {
     "name": "stdout",
     "output_type": "stream",
     "text": [
      "[[0.2        0.33333333]\n",
      " [0.42857143 0.5       ]]\n",
      "[[0.2        0.33333333]\n",
      " [0.42857143 0.5       ]]\n"
     ]
    }
   ],
   "source": [
    "print(x / y)\n",
    "print(np.divide(x, y))"
   ]
  },
  {
   "cell_type": "code",
   "execution_count": 49,
   "metadata": {},
   "outputs": [
    {
     "name": "stdout",
     "output_type": "stream",
     "text": [
      "[[1.         1.41421356]\n",
      " [1.73205081 2.        ]]\n"
     ]
    }
   ],
   "source": [
    "print(np.sqrt(x))"
   ]
  },
  {
   "cell_type": "markdown",
   "metadata": {},
   "source": [
    "Обратите внимание, что `x * y` это поэлементное умножене, а не матричное произведение из линала. Если нужно матричное произведение, нужно использовать специальную функцию."
   ]
  },
  {
   "cell_type": "code",
   "execution_count": 30,
   "metadata": {},
   "outputs": [
    {
     "name": "stdout",
     "output_type": "stream",
     "text": [
      "[[1 2]\n",
      " [3 4]\n",
      " [1 2]\n",
      " [3 4]]   = x \n",
      "[[5 6]\n",
      " [7 8]]   = x \n",
      "[ 9 10]   = x \n",
      "[11 12]   = x \n"
     ]
    }
   ],
   "source": [
    "x = np.array([[1,2],[3,4],[1,2],[3,4]])\n",
    "y = np.array([[5,6],[7,8]])\n",
    "\n",
    "v = np.array([9,10])\n",
    "w = np.array([11, 12])\n",
    "\n",
    "print(x, \"  = x \")\n",
    "print(y, \"  = x \")\n",
    "print( v, \"  = x \")\n",
    "print(w, \"  = x \")"
   ]
  },
  {
   "cell_type": "markdown",
   "metadata": {},
   "source": [
    "Скалярное произведение векторов"
   ]
  },
  {
   "cell_type": "code",
   "execution_count": 16,
   "metadata": {},
   "outputs": [
    {
     "name": "stdout",
     "output_type": "stream",
     "text": [
      "219\n",
      "219\n"
     ]
    }
   ],
   "source": [
    "print(v.dot(w))\n",
    "print(np.dot(v, w))"
   ]
  },
  {
   "cell_type": "markdown",
   "metadata": {},
   "source": [
    "Умножение матрицы на вектор"
   ]
  },
  {
   "cell_type": "code",
   "execution_count": 15,
   "metadata": {},
   "outputs": [
    {
     "name": "stdout",
     "output_type": "stream",
     "text": [
      "[29 67]\n",
      "[29 67]\n"
     ]
    }
   ],
   "source": [
    "print(x.dot(v))\n",
    "print(np.dot(x, v))"
   ]
  },
  {
   "cell_type": "markdown",
   "metadata": {},
   "source": [
    "Матричное умножение"
   ]
  },
  {
   "cell_type": "code",
   "execution_count": 31,
   "metadata": {},
   "outputs": [
    {
     "name": "stdout",
     "output_type": "stream",
     "text": [
      "[[19 22]\n",
      " [43 50]\n",
      " [19 22]\n",
      " [43 50]]\n",
      "[[19 22]\n",
      " [43 50]\n",
      " [19 22]\n",
      " [43 50]]\n"
     ]
    }
   ],
   "source": [
    "print(x.dot(y))\n",
    "print(np.dot(x, y))"
   ]
  },
  {
   "cell_type": "markdown",
   "metadata": {},
   "source": [
    "Numpy предоставляет множество полезных функций для выполнения вычислений на массивах; одна из самых полезных-`sum`:"
   ]
  },
  {
   "cell_type": "code",
   "execution_count": 55,
   "metadata": {},
   "outputs": [
    {
     "name": "stdout",
     "output_type": "stream",
     "text": [
      "[[1 2]\n",
      " [3 4]\n",
      " [3 3]] \n",
      "\n",
      "16\n",
      "[7 9]\n",
      "[3 7 6]\n"
     ]
    }
   ],
   "source": [
    "x = np.array([[1,2],[3,4], [3,3]])\n",
    "\n",
    "print(x, '\\n')\n",
    "\n",
    "print(np.sum(x))          # Сумма всех элементов\n",
    "print(np.sum(x, axis=0))  # Сумма каждого столбца\n",
    "print(np.sum(x, axis=1))  # Сумма каждой строки"
   ]
  },
  {
   "cell_type": "markdown",
   "metadata": {},
   "source": [
    "Полный список математических функций можете посмотреть в документации\n",
    "https://docs.scipy.org/doc/numpy/reference/routines.math.html"
   ]
  },
  {
   "cell_type": "markdown",
   "metadata": {},
   "source": [
    "Помимо вычисления математических функций с использованием массивов, нам часто приходится изменять или иным образом манипулировать данными в массивах. Самый простой пример такого типа операции-транспонирование матрицы; чтобы транспонировать матрицу, просто используйте атрибут T объекта array:"
   ]
  },
  {
   "cell_type": "code",
   "execution_count": 56,
   "metadata": {},
   "outputs": [
    {
     "name": "stdout",
     "output_type": "stream",
     "text": [
      "[[1 2]\n",
      " [3 4]] \n",
      "\n",
      "[[1 3]\n",
      " [2 4]]\n"
     ]
    }
   ],
   "source": [
    "x = np.array([[1,2], [3,4]])\n",
    "print(x,'\\n')\n",
    "print(x.T)"
   ]
  },
  {
   "cell_type": "markdown",
   "metadata": {},
   "source": [
    "Транспонирование ветора ничего не делает"
   ]
  },
  {
   "cell_type": "code",
   "execution_count": 57,
   "metadata": {},
   "outputs": [
    {
     "name": "stdout",
     "output_type": "stream",
     "text": [
      "[1 2 3]\n",
      "[1 2 3]\n"
     ]
    }
   ],
   "source": [
    "v = np.array([1,2,3])\n",
    "print(v)\n",
    "print(v.T)\n"
   ]
  },
  {
   "cell_type": "markdown",
   "metadata": {},
   "source": [
    "Numpy предоставляет гораздо больше функций для управления массивами; вы можете увидеть полный список в документации. https://docs.scipy.org/doc/numpy/reference/routines.array-manipulation.html"
   ]
  },
  {
   "cell_type": "markdown",
   "metadata": {},
   "source": [
    "## Broadcasting\n",
    "мощный механизм, позволяющий numpy работать с массивами различной формы при выполнении арифметических операций. Часто у нас есть меньший массив и больший массив, и мы хотим использовать меньший массив несколько раз для выполнения некоторой операции над большим массивом."
   ]
  },
  {
   "cell_type": "markdown",
   "metadata": {},
   "source": [
    "Например, предположим, что мы хотим добавить постоянный вектор к каждой строке матрицы. Мы можем сделать это так:"
   ]
  },
  {
   "cell_type": "code",
   "execution_count": 62,
   "metadata": {},
   "outputs": [
    {
     "name": "stdout",
     "output_type": "stream",
     "text": [
      "[[ 1  2  3]\n",
      " [ 4  5  6]\n",
      " [ 7  8  9]\n",
      " [10 11 12]]\n",
      "[[ 1  2  3]\n",
      " [ 4  5  6]\n",
      " [ 7  8  9]\n",
      " [10 11 12]] \n",
      "\n",
      "[[ 2  2  4]\n",
      " [ 5  5  7]\n",
      " [ 8  8 10]\n",
      " [11 11 13]]\n"
     ]
    }
   ],
   "source": [
    "x = np.array([[1,2,3], [4,5,6], [7,8,9], [10, 11, 12]])\n",
    "v = np.array([1, 0, 1])\n",
    "y = np.empty_like(x)   # Пустая (заполненная мусором) матрица той же размерности, что и x\n",
    "\n",
    "print(y)\n",
    "\n",
    "# Для каждой строки матрицы x в цикле доболяем вектор v\n",
    "for i in range(4):\n",
    "    y[i, :] = x[i, :] + v\n",
    "\n",
    "print(x, '\\n')\n",
    "print(y)"
   ]
  },
  {
   "cell_type": "markdown",
   "metadata": {},
   "source": [
    "### Это работает! \n",
    "Но, когда матрица `x` очень велика, вычисление цикла в Python может быть медленным. Обратите внимание, что добавление вектора v в каждую строку матрицы x эквивалентно формированию матрицы `vv` путем укладки нескольких копий v вертикально, а затем выполнения элементарного суммирования `x` и `vv`. Мы могли бы реализовать такой подход:"
   ]
  },
  {
   "cell_type": "code",
   "execution_count": 65,
   "metadata": {},
   "outputs": [
    {
     "name": "stdout",
     "output_type": "stream",
     "text": [
      "[[1 0 1]\n",
      " [1 0 1]\n",
      " [1 0 1]\n",
      " [1 0 1]] \n",
      "\n",
      "[[ 2  2  4]\n",
      " [ 5  5  7]\n",
      " [ 8  8 10]\n",
      " [11 11 13]]\n"
     ]
    }
   ],
   "source": [
    "x = np.array([[1,2,3], [4,5,6], [7,8,9], [10, 11, 12]])\n",
    "v = np.array([1, 0, 1])\n",
    "vv = np.tile(v, (4, 1))   # Склеить 4 копии вектора v друг на друга\n",
    "print(vv, '\\n')                 \n",
    "\n",
    "y = x + vv  # Сложение из numpy\n",
    "print(y)"
   ]
  },
  {
   "cell_type": "markdown",
   "metadata": {},
   "source": [
    "Numpy broadcasting позволяет нам выполнять это вычисление без фактического создания нескольких копий `v`."
   ]
  },
  {
   "cell_type": "code",
   "execution_count": 66,
   "metadata": {},
   "outputs": [
    {
     "name": "stdout",
     "output_type": "stream",
     "text": [
      "[[ 2  2  4]\n",
      " [ 5  5  7]\n",
      " [ 8  8 10]\n",
      " [11 11 13]]\n"
     ]
    }
   ],
   "source": [
    "x = np.array([[1,2,3], [4,5,6], [7,8,9], [10, 11, 12]])\n",
    "v = np.array([1, 0, 1])\n",
    "y = x + v\n",
    "print(y)"
   ]
  },
  {
   "cell_type": "markdown",
   "metadata": {},
   "source": [
    "Строчка `y = x + v` работает несмотря на то, что `x.shape == (4, 3)` и `v.shape == (3,)`. Это работает как если бы  `v.shape`  было `(4,3)` где каждая строка была копией `v`, а сумма считается поэлементно."
   ]
  },
  {
   "cell_type": "markdown",
   "metadata": {},
   "source": [
    "Этот краткий обзор коснулся многих важных вещей, которые вы должны знать о numpy, но далек от завершения. По ссылке вы можете узнать много нового и полезного. https://docs.scipy.org/doc/numpy/reference/"
   ]
  },
  {
   "cell_type": "markdown",
   "metadata": {},
   "source": [
    "## Зачем всё это?\n",
    "Вы могли слышать, что один из минусов питона, это его большое время работы. NumPy пытается как-то решить эту проблему. Многие его функции реализованы на си или фортране. Рассмотрим пример"
   ]
  },
  {
   "cell_type": "code",
   "execution_count": 12,
   "metadata": {},
   "outputs": [
    {
     "name": "stdout",
     "output_type": "stream",
     "text": [
      "Numpy is in this example 108.1037780966045 times faster!\n"
     ]
    }
   ],
   "source": [
    "import time\n",
    "\n",
    "size_of_vec = 300000\n",
    "\n",
    "def python():\n",
    "    start = time.time()\n",
    "    X = range(size_of_vec)\n",
    "    Y = range(size_of_vec)\n",
    "    Z = [X[i] + Y[i] for i in range(len(X)) ]\n",
    "    return time.time() - start\n",
    "\n",
    "def numpy():\n",
    "    start = time.time()\n",
    "    X = np.arange(size_of_vec)\n",
    "    Y = np.arange(size_of_vec)\n",
    "    Z = X + Y\n",
    "    return time.time() - start\n",
    "\n",
    "print(\"Numpy is in this example {} times faster!\".format(python()/numpy()))\n"
   ]
  },
  {
   "cell_type": "markdown",
   "metadata": {},
   "source": [
    "### Упражнение 1\n",
    "Постройте график ускорения получаемого с использованием массивов numpy по сравнению со списками в питоне от размера массива. \n",
    "Для более точных результатов замеряйте время выполнения функции несколько раз и усредняйте. (можно использовать модуль Timer из библиотеки timeit)\n",
    "* Используйте функцию `z = 2*x**2 + 4*y`\n",
    "* Перемножение матриц размера n на n\n"
   ]
  },
  {
   "cell_type": "code",
   "execution_count": 28,
   "metadata": {},
   "outputs": [
    {
     "data": {
      "image/png": "[encoded data removed]",
      "text/plain": [
       "<Figure size 432x288 with 1 Axes>"
      ]
     },
     "metadata": {
      "needs_background": "light"
     },
     "output_type": "display_data"
    }
   ],
   "source": [
    "import numpy as np\n",
    "import time\n",
    "import matplotlib.pyplot as plt\n",
    "\n",
    "def python(size_of_vec):\n",
    "    start = time.time()\n",
    "    X = range(size_of_vec)\n",
    "    Y = range(size_of_vec)\n",
    "    Z = [2*X[i]**2 + 4*Y[i] for i in range(len(X)) ]\n",
    "    return time.time() - start\n",
    "\n",
    "def numpy(size_of_vec):\n",
    "    start = time.time()\n",
    "    X = np.arange(size_of_vec)\n",
    "    Y = np.arange(size_of_vec)\n",
    "    Z = 2*X**2 + 4*Y\n",
    "    return time.time() - start\n",
    "\n",
    "def date():\n",
    "    X = []\n",
    "    Y = []\n",
    "    y = 0\n",
    "    for i in range(0, 1000, 1):\n",
    "        for f in range(0, 20):\n",
    "            y += (python(i) - numpy(i))        \n",
    "        X.append(i)\n",
    "        Y.append(y/20)\n",
    "        y = 0\n",
    "    return plt.plot(X, Y)\n",
    "\n",
    "date()\n",
    "plt.show()\n",
    "\n",
    "        \n",
    "    "
   ]
  },
  {
   "cell_type": "code",
   "execution_count": 54,
   "metadata": {},
   "outputs": [
    {
     "data": {
      "image/png": "[encoded data removed]",
      "text/plain": [
       "<Figure size 432x288 with 1 Axes>"
      ]
     },
     "metadata": {
      "needs_background": "light"
     },
     "output_type": "display_data"
    }
   ],
   "source": [
    "import numpy as np\n",
    "import time\n",
    "import matplotlib.pyplot as plt\n",
    "\n",
    "def massive_creator(size_of_matrix):\n",
    "    X = []\n",
    "    for i in range(0, size_of_matrix + 1):\n",
    "        X.append([i, i+1, i + 2])\n",
    "    return X\n",
    "\n",
    "def python(size_of_matrix):\n",
    "    X = massive_creator(size_of_matrix)\n",
    "    start = time.time()\n",
    "    Y = [[1, 2, 3], [4, 5, 6], [7, 8, 9]]\n",
    "    Z = []\n",
    "    for i in range(size_of_matrix):\n",
    "        stroka = []\n",
    "        for j in range(0, 2):\n",
    "            z = 0\n",
    "            for k in range(0,2):\n",
    "                z += X[i][k]*Y[k][j]\n",
    "            stroka.append(z)\n",
    "        Z.append(stroka)\n",
    "    return time.time() - start\n",
    "\n",
    "def numpy(size_of_matrix):\n",
    "    start = time.time()\n",
    "    X = np.array(massive_creator(size_of_matrix))\n",
    "    Y = np.array([[1, 2, 3], [4, 5, 6], [7, 8, 9]])\n",
    "    Z = np.dot(X, Y)\n",
    "    return time.time() - start\n",
    "\n",
    "def date():\n",
    "    X = []\n",
    "    Y = []\n",
    "    y = 0\n",
    "    for i in range(0, 200, 1):\n",
    "        for f in range(0, 29):\n",
    "            y += (python(i) - numpy(i))        \n",
    "        X.append(i)\n",
    "        Y.append(y/30)\n",
    "    return plt.plot(X, Y)\n",
    "\n",
    "date()\n",
    "plt.show()\n",
    "\n",
    "        "
   ]
  },
  {
   "cell_type": "markdown",
   "metadata": {},
   "source": [
    "### Упражнение 2\n",
    "* Создать массив чисел от 2 до 75. Вывести только нечётные. \n",
    "* Присвоить нечётным числам этого массива значение -1.\n"
   ]
  },
  {
   "cell_type": "code",
   "execution_count": 66,
   "metadata": {},
   "outputs": [
    {
     "name": "stdout",
     "output_type": "stream",
     "text": [
      "K =  [3, 5, 7, 9, 11, 13, 15, 17, 19, 21, 23, 25, 27, 29, 31, 33, 35, 37, 39, 41, 43, 45, 47, 49, 51, 53, 55, 57, 59, 61, 63, 65, 67, 69, 71, 73, 75]\n",
      "A =  [2, -1, 4, -1, 6, -1, 8, -1, 10, -1, 12, -1, 14, -1, 16, -1, 18, -1, 20, -1, 22, -1, 24, -1, 26, -1, 28, -1, 30, -1, 32, -1, 34, -1, 36, -1, 38, -1, 40, -1, 42, -1, 44, -1, 46, -1, 48, -1, 50, -1, 52, -1, 54, -1, 56, -1, 58, -1, 60, -1, 62, -1, 64, -1, 66, -1, 68, -1, 70, -1, 72, -1, 74, -1]\n"
     ]
    }
   ],
   "source": [
    "A = []\n",
    "for i in range(2, 76):\n",
    "    A.append(i)\n",
    "K = A[1:76:2]\n",
    "print(\"K = \", K)\n",
    "\n",
    "for i in range(1, 75, 2):\n",
    "    A[i] = -1\n",
    "print(\"A = \", A)    \n",
    "    "
   ]
  },
  {
   "cell_type": "markdown",
   "metadata": {},
   "source": [
    "### Упражнение 3\n",
    "* прочитать про функцию reshape, запустить и понять все пимеры https://docs.scipy.org/doc/numpy/reference/generated/numpy.reshape.html?highlight=reshape#numpy.reshape\n",
    "* Найти в документации функцию, которая удаляет из одного массива элементы, которые есть в другом. Вспомнить как то же самое проделать с множествами"
   ]
  },
  {
   "cell_type": "code",
   "execution_count": 71,
   "metadata": {},
   "outputs": [
    {
     "name": "stdout",
     "output_type": "stream",
     "text": [
      "[1 2 3 4 5 6]\n",
      "[[1 2 3]\n",
      " [4 5 6]]\n"
     ]
    }
   ],
   "source": [
    "a = np.array([[1,2,3], [4,5,6]])\n",
    "b = np.reshape(a, 6)\n",
    "a = np.reshape(a, (2,3))\n",
    "print(b)\n",
    "print(a)"
   ]
  },
  {
   "cell_type": "markdown",
   "metadata": {},
   "source": [
    "### Упражнение 4\n",
    "\n",
    "* Создать случаую квадратную матрицу случайного размера от 10 до 100. \n",
    "* Найти максимум и сумму элементов.\n",
    "* Поделить каждый элемент на максимум.\n",
    "* Отнять от каждой строки матрицы среднее по строке\n",
    "* Заменить максимальное значение на -1."
   ]
  },
  {
   "cell_type": "code",
   "execution_count": 99,
   "metadata": {},
   "outputs": [
    {
     "name": "stdout",
     "output_type": "stream",
     "text": [
      "[[0.03092085 0.80465377 0.71616608 0.71072989 0.60017232 0.83059993\n",
      "  0.19758838 0.28735981 0.82356965 0.96481022 0.12663868 0.98193312\n",
      "  0.39509051 0.98607609]\n",
      " [0.88091594 0.10678534 0.33875259 0.24362751 0.11182882 0.64351515\n",
      "  0.94798172 0.86562688 0.70658232 0.88413211 0.06271811 0.67407877\n",
      "  0.23598616 0.33444011]\n",
      " [0.98708413 0.9352122  0.36832217 0.23804503 0.88562458 0.06094137\n",
      "  0.62526686 0.34287539 0.19710217 0.32688615 0.95939492 0.07456552\n",
      "  0.62345273 0.20568602]\n",
      " [0.2372996  0.29910046 0.9440785  0.4130398  0.00886225 0.01164527\n",
      "  0.33732727 0.64610758 0.67860441 0.96939288 0.38209972 0.93077668\n",
      "  0.38231329 0.34317192]\n",
      " [0.50443844 0.18679722 0.67945904 0.70295623 0.43381494 0.95176819\n",
      "  0.24615812 0.03578739 0.65690588 0.64336177 0.16718339 0.23329879\n",
      "  0.49624103 0.81355941]\n",
      " [0.54867617 0.43867034 0.54891517 0.97386227 0.44088642 0.14440133\n",
      "  0.29518957 0.19865155 0.49499147 0.11097425 0.88848335 0.86233825\n",
      "  0.52131394 0.55772541]\n",
      " [0.25669865 0.93122249 0.98945926 0.0051085  0.63343392 0.00734452\n",
      "  0.9713314  0.03042215 0.35789706 0.13725421 0.98700383 0.06918424\n",
      "  0.36782706 0.72835853]\n",
      " [0.43346535 0.90250589 0.44007478 0.47157099 0.18206655 0.11811744\n",
      "  0.0948391  0.05959621 0.65218294 0.40092338 0.67076097 0.20827541\n",
      "  0.08586603 0.3614742 ]\n",
      " [0.6689086  0.61872093 0.87037828 0.7401163  0.01907687 0.01920204\n",
      "  0.25403907 0.71472421 0.26465481 0.4359322  0.9773417  0.64530166\n",
      "  0.16768554 0.39117385]\n",
      " [0.60393101 0.50161748 0.93215322 0.03762791 0.94683042 0.53895565\n",
      "  0.74306466 0.73682556 0.23119043 0.3655843  0.82503287 0.0784378\n",
      "  0.28405193 0.39431191]\n",
      " [0.08751003 0.77741753 0.64458481 0.81112826 0.67115282 0.81842956\n",
      "  0.74384498 0.20999997 0.62720096 0.04437708 0.79996817 0.26136215\n",
      "  0.61965628 0.57892335]\n",
      " [0.2064231  0.24991645 0.03011028 0.81170521 0.93740709 0.70207269\n",
      "  0.01585154 0.64797026 0.91410463 0.60977463 0.82466332 0.05146357\n",
      "  0.25185516 0.32669469]\n",
      " [0.35940281 0.42308793 0.45485003 0.36430664 0.41069792 0.5969537\n",
      "  0.48820128 0.30759557 0.91077523 0.13423086 0.40367974 0.86874386\n",
      "  0.30715244 0.8359335 ]\n",
      " [0.87335168 0.72898021 0.48653669 0.66451193 0.97293009 0.1526709\n",
      "  0.60071702 0.99496031 0.15570224 0.77134095 0.39718321 0.05352268\n",
      "  0.20828086 0.66882195]]\n"
     ]
    }
   ],
   "source": [
    "import random\n",
    "a = random.randint(10,100)\n",
    "e = np.random.random((a,a))\n",
    "print(e)"
   ]
  },
  {
   "cell_type": "code",
   "execution_count": 100,
   "metadata": {},
   "outputs": [
    {
     "name": "stdout",
     "output_type": "stream",
     "text": [
      "sum =  97.11619611096495\n",
      "0.9949603085222766\n"
     ]
    }
   ],
   "source": [
    "print(\"sum = \", np.sum(e))\n",
    "max_e = 0\n",
    "for i in e:\n",
    "    for j in i:\n",
    "        if j > max_e:\n",
    "            max_e = j\n",
    "print(max_e)\n",
    "    "
   ]
  },
  {
   "cell_type": "code",
   "execution_count": 104,
   "metadata": {},
   "outputs": [
    {
     "name": "stdout",
     "output_type": "stream",
     "text": [
      "[[0.03107747 0.80872952 0.71979362 0.71432989 0.60321232 0.8348071\n",
      "  0.19858921 0.28881535 0.82774121 0.9696972  0.12728013 0.98690683\n",
      "  0.39709173 0.99107078]\n",
      " [0.88537798 0.10732623 0.34046845 0.24486154 0.11239526 0.6467747\n",
      "  0.95278345 0.87001146 0.71016131 0.88861043 0.06303579 0.67749312\n",
      "  0.23718148 0.33613412]\n",
      " [0.99208393 0.93994926 0.3701878  0.23925078 0.89011046 0.06125006\n",
      "  0.62843397 0.34461213 0.19810053 0.3285419  0.96425447 0.07494321\n",
      "  0.62661065 0.20672787]\n",
      " [0.23850158 0.30061547 0.94886047 0.41513194 0.00890714 0.01170425\n",
      "  0.33903591 0.64938025 0.68204169 0.97430306 0.38403514 0.93549126\n",
      "  0.38424979 0.34491016]\n",
      " [0.50699353 0.18774339 0.68290065 0.70651686 0.43601231 0.9565891\n",
      "  0.24740496 0.03596866 0.66023326 0.64662053 0.16803021 0.2344805\n",
      "  0.4987546  0.81768026]\n",
      " [0.55145534 0.4408923  0.55169555 0.97879509 0.4431196  0.14513275\n",
      "  0.29668477 0.19965777 0.49749871 0.11153636 0.89298371 0.86670618\n",
      "  0.52395451 0.56055041]\n",
      " [0.25799889 0.93593934 0.99447109 0.00513437 0.6366424  0.00738173\n",
      "  0.9762514  0.03057625 0.35970988 0.13794943 0.99200322 0.06953467\n",
      "  0.36969018 0.73204782]\n",
      " [0.43566094 0.90707728 0.44230385 0.4739596  0.18298876 0.11871573\n",
      "  0.09531948 0.05989808 0.65548639 0.40295414 0.67415852 0.20933037\n",
      "  0.08630096 0.36330514]\n",
      " [0.67229677 0.62185489 0.87478694 0.74386515 0.0191735  0.01929931\n",
      "  0.25532583 0.71834445 0.26599534 0.43814029 0.98229215 0.64857026\n",
      "  0.16853491 0.39315523]\n",
      " [0.60699006 0.50415828 0.93687478 0.0378185  0.95162632 0.54168558\n",
      "  0.74682845 0.74055774 0.23236146 0.36743606 0.82921184 0.0788351\n",
      "  0.28549071 0.39630918]\n",
      " [0.08795329 0.78135532 0.64784977 0.81523681 0.67455236 0.82257509\n",
      "  0.74761272 0.21106367 0.63037787 0.04460186 0.80402019 0.26268601\n",
      "  0.62279497 0.58185573]\n",
      " [0.20746868 0.25118233 0.03026279 0.81581668 0.94215526 0.70562884\n",
      "  0.01593183 0.65125237 0.91873477 0.61286327 0.82884042 0.05172424\n",
      "  0.25313086 0.32834947]\n",
      " [0.36122327 0.42523096 0.45715394 0.36615194 0.4127782  0.5999774\n",
      "  0.49067413 0.30915361 0.91538851 0.13491077 0.40572447 0.87314423\n",
      "  0.30870823 0.84016769]\n",
      " [0.8777754  0.73267266 0.48900111 0.66787783 0.9778582  0.15344421\n",
      "  0.60375978 1.         0.1564909  0.77524796 0.39919503 0.05379378\n",
      "  0.20933584 0.67220968]]\n"
     ]
    }
   ],
   "source": [
    "K = np.full((a,a), max_e)\n",
    "T = e/K\n",
    "print(T)\n"
   ]
  },
  {
   "cell_type": "code",
   "execution_count": 136,
   "metadata": {},
   "outputs": [
    {
     "name": "stdout",
     "output_type": "stream",
     "text": [
      "[[0.03092085 0.80465377 0.71616608 0.71072989 0.60017232 0.83059993\n",
      "  0.19758838 0.28735981 0.82356965 0.96481022 0.12663868 0.98193312\n",
      "  0.39509051 0.98607609]\n",
      " [0.88091594 0.10678534 0.33875259 0.24362751 0.11182882 0.64351515\n",
      "  0.94798172 0.86562688 0.70658232 0.88413211 0.06271811 0.67407877\n",
      "  0.23598616 0.33444011]\n",
      " [0.98708413 0.9352122  0.36832217 0.23804503 0.88562458 0.06094137\n",
      "  0.62526686 0.34287539 0.19710217 0.32688615 0.95939492 0.07456552\n",
      "  0.62345273 0.20568602]\n",
      " [0.2372996  0.29910046 0.9440785  0.4130398  0.00886225 0.01164527\n",
      "  0.33732727 0.64610758 0.67860441 0.96939288 0.38209972 0.93077668\n",
      "  0.38231329 0.34317192]\n",
      " [0.50443844 0.18679722 0.67945904 0.70295623 0.43381494 0.95176819\n",
      "  0.24615812 0.03578739 0.65690588 0.64336177 0.16718339 0.23329879\n",
      "  0.49624103 0.81355941]\n",
      " [0.54867617 0.43867034 0.54891517 0.97386227 0.44088642 0.14440133\n",
      "  0.29518957 0.19865155 0.49499147 0.11097425 0.88848335 0.86233825\n",
      "  0.52131394 0.55772541]\n",
      " [0.25669865 0.93122249 0.98945926 0.0051085  0.63343392 0.00734452\n",
      "  0.9713314  0.03042215 0.35789706 0.13725421 0.98700383 0.06918424\n",
      "  0.36782706 0.72835853]\n",
      " [0.43346535 0.90250589 0.44007478 0.47157099 0.18206655 0.11811744\n",
      "  0.0948391  0.05959621 0.65218294 0.40092338 0.67076097 0.20827541\n",
      "  0.08586603 0.3614742 ]\n",
      " [0.6689086  0.61872093 0.87037828 0.7401163  0.01907687 0.01920204\n",
      "  0.25403907 0.71472421 0.26465481 0.4359322  0.9773417  0.64530166\n",
      "  0.16768554 0.39117385]\n",
      " [0.60393101 0.50161748 0.93215322 0.03762791 0.94683042 0.53895565\n",
      "  0.74306466 0.73682556 0.23119043 0.3655843  0.82503287 0.0784378\n",
      "  0.28405193 0.39431191]\n",
      " [0.08751003 0.77741753 0.64458481 0.81112826 0.67115282 0.81842956\n",
      "  0.74384498 0.20999997 0.62720096 0.04437708 0.79996817 0.26136215\n",
      "  0.61965628 0.57892335]\n",
      " [0.2064231  0.24991645 0.03011028 0.81170521 0.93740709 0.70207269\n",
      "  0.01585154 0.64797026 0.91410463 0.60977463 0.82466332 0.05146357\n",
      "  0.25185516 0.32669469]\n",
      " [0.35940281 0.42308793 0.45485003 0.36430664 0.41069792 0.5969537\n",
      "  0.48820128 0.30759557 0.91077523 0.13423086 0.40367974 0.86874386\n",
      "  0.30715244 0.8359335 ]\n",
      " [0.87335168 0.72898021 0.48653669 0.66451193 0.97293009 0.1526709\n",
      "  0.60071702 0.99496031 0.15570224 0.77134095 0.39718321 0.05352268\n",
      "  0.20828086 0.66882195]]\n"
     ]
    }
   ],
   "source": [
    "for i in range(len(e)):\n",
    "    for j in e[i]:\n",
    "        sr_znach = np.sum(e[i: i+1: 1])\n",
    "        j -= sr_znach\n",
    "print(e)"
   ]
  },
  {
   "cell_type": "code",
   "execution_count": 145,
   "metadata": {},
   "outputs": [
    {
     "name": "stdout",
     "output_type": "stream",
     "text": [
      "13    7\n",
      "[[ 0.03092085  0.80465377  0.71616608  0.71072989  0.60017232  0.83059993\n",
      "   0.19758838  0.28735981  0.82356965  0.96481022  0.12663868  0.98193312\n",
      "   0.39509051  0.98607609]\n",
      " [ 0.88091594  0.10678534  0.33875259  0.24362751  0.11182882  0.64351515\n",
      "   0.94798172  0.86562688  0.70658232  0.88413211  0.06271811  0.67407877\n",
      "   0.23598616  0.33444011]\n",
      " [ 0.98708413  0.9352122   0.36832217  0.23804503  0.88562458  0.06094137\n",
      "   0.62526686  0.34287539  0.19710217  0.32688615  0.95939492  0.07456552\n",
      "   0.62345273  0.20568602]\n",
      " [ 0.2372996   0.29910046  0.9440785   0.4130398   0.00886225  0.01164527\n",
      "   0.33732727  0.64610758  0.67860441  0.96939288  0.38209972  0.93077668\n",
      "   0.38231329  0.34317192]\n",
      " [ 0.50443844  0.18679722  0.67945904  0.70295623  0.43381494  0.95176819\n",
      "   0.24615812  0.03578739  0.65690588  0.64336177  0.16718339  0.23329879\n",
      "   0.49624103  0.81355941]\n",
      " [ 0.54867617  0.43867034  0.54891517  0.97386227  0.44088642  0.14440133\n",
      "   0.29518957  0.19865155  0.49499147  0.11097425  0.88848335  0.86233825\n",
      "   0.52131394  0.55772541]\n",
      " [ 0.25669865  0.93122249  0.98945926  0.0051085   0.63343392  0.00734452\n",
      "   0.9713314   0.03042215  0.35789706  0.13725421  0.98700383  0.06918424\n",
      "   0.36782706  0.72835853]\n",
      " [ 0.43346535  0.90250589  0.44007478  0.47157099  0.18206655  0.11811744\n",
      "   0.0948391   0.05959621  0.65218294  0.40092338  0.67076097  0.20827541\n",
      "   0.08586603  0.3614742 ]\n",
      " [ 0.6689086   0.61872093  0.87037828  0.7401163   0.01907687  0.01920204\n",
      "   0.25403907  0.71472421  0.26465481  0.4359322   0.9773417   0.64530166\n",
      "   0.16768554  0.39117385]\n",
      " [ 0.60393101  0.50161748  0.93215322  0.03762791  0.94683042  0.53895565\n",
      "   0.74306466  0.73682556  0.23119043  0.3655843   0.82503287  0.0784378\n",
      "   0.28405193  0.39431191]\n",
      " [ 0.08751003  0.77741753  0.64458481  0.81112826  0.67115282  0.81842956\n",
      "   0.74384498  0.20999997  0.62720096  0.04437708  0.79996817  0.26136215\n",
      "   0.61965628  0.57892335]\n",
      " [ 0.2064231   0.24991645  0.03011028  0.81170521  0.93740709  0.70207269\n",
      "   0.01585154  0.64797026  0.91410463  0.60977463  0.82466332  0.05146357\n",
      "   0.25185516  0.32669469]\n",
      " [ 0.35940281  0.42308793  0.45485003  0.36430664  0.41069792  0.5969537\n",
      "   0.48820128  0.30759557  0.91077523  0.13423086  0.40367974  0.86874386\n",
      "   0.30715244  0.8359335 ]\n",
      " [ 0.87335168  0.72898021  0.48653669  0.66451193  0.97293009  0.1526709\n",
      "   0.60071702  0.99496031  0.15570224  0.77134095  0.39718321  0.05352268\n",
      "   0.20828086 -1.        ]]\n"
     ]
    }
   ],
   "source": [
    "max_e = 0\n",
    "for i in range(len(e)):\n",
    "    for j in range(len(e[i])):\n",
    "        if e[i][j] > max_e:\n",
    "            max_e = e[i][j]\n",
    "            max_e_i = i\n",
    "            max_e_j = j\n",
    "print(max_e_i,'  ', max_e_j)\n",
    "e[i][j] = -1\n",
    "print(e)\n",
    "            "
   ]
  },
  {
   "cell_type": "markdown",
   "metadata": {},
   "source": [
    "### Упражнение 5\n",
    "* Научиться записывать наймпай массив в файл.\n",
    "* Научиться читать массив из файла."
   ]
  },
  {
   "cell_type": "code",
   "execution_count": 159,
   "metadata": {},
   "outputs": [
    {
     "ename": "NameError",
     "evalue": "name 'txt' is not defined",
     "output_type": "error",
     "traceback": [
      "\u001b[1;31m---------------------------------------------------------------------------\u001b[0m",
      "\u001b[1;31mNameError\u001b[0m                                 Traceback (most recent call last)",
      "\u001b[1;32m<ipython-input-159-bbc77601e1ed>\u001b[0m in \u001b[0;36m<module>\u001b[1;34m\u001b[0m\n\u001b[1;32m----> 1\u001b[1;33m \u001b[0mnp\u001b[0m\u001b[1;33m.\u001b[0m\u001b[0msavetxt\u001b[0m\u001b[1;33m(\u001b[0m\u001b[0mtxt\u001b[0m\u001b[1;33m.\u001b[0m\u001b[0mtxt\u001b[0m\u001b[1;33m,\u001b[0m \u001b[0me\u001b[0m\u001b[1;33m)\u001b[0m\u001b[1;33m\u001b[0m\u001b[1;33m\u001b[0m\u001b[0m\n\u001b[0m",
      "\u001b[1;31mNameError\u001b[0m: name 'txt' is not defined"
     ]
    }
   ],
   "source": [
    "np.savetxt(txt.txt, e)"
   ]
  },
  {
   "cell_type": "markdown",
   "metadata": {},
   "source": [
    "### Упражнение 6\n",
    "* Как в массиве найти ближайший элемент к данному? "
   ]
  },
  {
   "cell_type": "code",
   "execution_count": null,
   "metadata": {},
   "outputs": [],
   "source": []
  },
  {
   "cell_type": "markdown",
   "metadata": {},
   "source": [
    "### Упражнение*\n",
    "* Напишите игру жизнь используя массивы нампай.\n"
   ]
  }
 ],
 "metadata": {
  "kernelspec": {
   "display_name": "Python 3",
   "language": "python",
   "name": "python3"
  },
  "language_info": {
   "codemirror_mode": {
    "name": "ipython",
    "version": 3
   },
   "file_extension": ".py",
   "mimetype": "text/x-python",
   "name": "python",
   "nbconvert_exporter": "python",
   "pygments_lexer": "ipython3",
   "version": "3.7.0"
  }
 },
 "nbformat": 4,
 "nbformat_minor": 2
}
