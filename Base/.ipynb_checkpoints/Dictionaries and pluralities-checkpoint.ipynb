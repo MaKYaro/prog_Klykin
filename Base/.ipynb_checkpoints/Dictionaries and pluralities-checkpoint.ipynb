{
 "cells": [
  {
   "cell_type": "code",
   "execution_count": 2,
   "metadata": {},
   "outputs": [
    {
     "name": "stdout",
     "output_type": "stream",
     "text": [
      "q\n",
      "p\n",
      "f\n",
      "l\n",
      "w\n"
     ]
    }
   ],
   "source": [
    "A = set('bqlpzlkwehrlulsdhfliuywemrlkjhsdlfjhlzxcovt')\n",
    "B = set('zmxcvnboaiyerjhbziuxdytvasenbriutsdvinjhgik')\n",
    "for x in A:\n",
    "    if x not in B:\n",
    "        print(x)"
   ]
  },
  {
   "cell_type": "code",
   "execution_count": 3,
   "metadata": {},
   "outputs": [
    {
     "name": "stdout",
     "output_type": "stream",
     "text": [
      "{'3', '1'}\n"
     ]
    }
   ],
   "source": [
    "A = set('0123456789')\n",
    "B = set('02468')\n",
    "C = set('12345')\n",
    "D = set('56789')\n",
    "E = (A - B)&(C - D)|(D - A)&(B - C)\n",
    "print(E)"
   ]
  },
  {
   "cell_type": "code",
   "execution_count": 57,
   "metadata": {},
   "outputs": [
    {
     "name": "stdout",
     "output_type": "stream",
     "text": [
      "the - 137\n",
      "of - 78\n",
      "to - 71\n",
      "and - 67\n",
      "a - 52\n",
      "in - 42\n",
      "that - 35\n",
      "he - 31\n",
      "heede - 26\n",
      "his - 23\n"
     ]
    }
   ],
   "source": [
    "import string\n",
    "\n",
    "file_input = open('input_dic.txt', 'r')\n",
    "\n",
    "s = file_input.read()\n",
    "exclude = set(string.punctuation)\n",
    "s = ''.join(ch for ch in s if ch not in exclude)\n",
    "s = s.lower()\n",
    "A = s.split()\n",
    "\n",
    "Count_set = set()\n",
    "Words = {}\n",
    "\n",
    "for elem in A:\n",
    "    if elem in Words:\n",
    "        pass\n",
    "    else:\n",
    "        Words[elem] = A.count(elem)\n",
    "        Count_set.add(A.count(elem))\n",
    "        \n",
    "number = 10\n",
    "\n",
    "while number != 0:\n",
    "    max = 0\n",
    "    for elem in Count_set:\n",
    "        if elem > max:\n",
    "            max = elem\n",
    "    for key in Words:\n",
    "        if Words[key] == max:\n",
    "            print(key, '-', Words[key])\n",
    "            Count_set.remove(max)\n",
    "    number -= 1\n",
    "#print(max)\n",
    "#print(Count_set)\n",
    "file_input.close()"
   ]
  },
  {
   "cell_type": "code",
   "execution_count": 63,
   "metadata": {
    "scrolled": true
   },
   "outputs": [
    {
     "ename": "ValueError",
     "evalue": "not enough values to unpack (expected 2, got 1)",
     "output_type": "error",
     "traceback": [
      "\u001b[1;31m---------------------------------------------------------------------------\u001b[0m",
      "\u001b[1;31mValueError\u001b[0m                                Traceback (most recent call last)",
      "\u001b[1;32m<ipython-input-63-188c928e91ac>\u001b[0m in \u001b[0;36m<module>\u001b[1;34m\u001b[0m\n\u001b[0;32m      8\u001b[0m \u001b[1;33m\u001b[0m\u001b[0m\n\u001b[0;32m      9\u001b[0m \u001b[1;32mfor\u001b[0m \u001b[0mline\u001b[0m \u001b[1;32min\u001b[0m \u001b[0mtr\u001b[0m\u001b[1;33m:\u001b[0m\u001b[1;33m\u001b[0m\u001b[0m\n\u001b[1;32m---> 10\u001b[1;33m     \u001b[0mword\u001b[0m\u001b[1;33m,\u001b[0m \u001b[0mtranslation\u001b[0m \u001b[1;33m=\u001b[0m \u001b[0mline\u001b[0m\u001b[1;33m.\u001b[0m\u001b[0msplit\u001b[0m\u001b[1;33m(\u001b[0m\u001b[1;34m'\\t-\\t'\u001b[0m\u001b[1;33m)\u001b[0m\u001b[1;33m\u001b[0m\u001b[0m\n\u001b[0m\u001b[0;32m     11\u001b[0m     \u001b[0mdictionary\u001b[0m\u001b[1;33m[\u001b[0m\u001b[0mword\u001b[0m\u001b[1;33m]\u001b[0m \u001b[1;33m=\u001b[0m \u001b[0mtranslation\u001b[0m\u001b[1;33m\u001b[0m\u001b[0m\n\u001b[0;32m     12\u001b[0m \u001b[1;33m\u001b[0m\u001b[0m\n",
      "\u001b[1;31mValueError\u001b[0m: not enough values to unpack (expected 2, got 1)"
     ]
    }
   ],
   "source": [
    "file_en_ru = open('en-ru.txt', 'r')\n",
    "file_input = open('input_en-ru.txt', 'r')\n",
    "file_output = open('output_en-ru.txt', 'w')\n",
    "\n",
    "tr = file_en_ru.readline()\n",
    "\n",
    "dictionary = {}\n",
    "\n",
    "for line in tr:\n",
    "    word, translation = line.split('\\t-\\t')\n",
    "    dictionary[word] = translation\n",
    "    \n",
    "s = file_input.readline()\n",
    "exclude = set(string.punctuation)\n",
    "s = ''.join(ch for ch in s if ch not in exclude)\n",
    "s = s.lower()\n",
    "\n",
    "A = s.split()\n",
    "\n",
    "print(dictionary)\n",
    "file_output.close()\n",
    "file_input.close()\n",
    "file_en_ru.close()"
   ]
  },
  {
   "cell_type": "code",
   "execution_count": null,
   "metadata": {},
   "outputs": [],
   "source": []
  }
 ],
 "metadata": {
  "kernelspec": {
   "display_name": "Python 3",
   "language": "python",
   "name": "python3"
  },
  "language_info": {
   "codemirror_mode": {
    "name": "ipython",
    "version": 3
   },
   "file_extension": ".py",
   "mimetype": "text/x-python",
   "name": "python",
   "nbconvert_exporter": "python",
   "pygments_lexer": "ipython3",
   "version": "3.7.0"
  }
 },
 "nbformat": 4,
 "nbformat_minor": 2
}
